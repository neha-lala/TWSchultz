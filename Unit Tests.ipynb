{
 "cells": [
  {
   "cell_type": "markdown",
   "id": "2c6e2b70-d605-4663-9dea-1215122ea09b",
   "metadata": {},
   "source": [
    "# Group Project 4 - Team T.W. Schultz\n"
   ]
  },
  {
   "cell_type": "markdown",
   "id": "8751ff8d-3e2b-444c-b3c7-2119cc19db28",
   "metadata": {},
   "source": [
    "### Team Members: Neha Lala (*Team Manager*), Gavin Armstrong, Dojun Kim, Samantha Wang, Daniela Salinas Gomez"
   ]
  },
  {
   "cell_type": "markdown",
   "id": "6c0785aa-d913-4c14-ab26-ccefdfcd14e9",
   "metadata": {},
   "source": [
    "## **1.3 [A] Unit Test:**"
   ]
  },
  {
   "cell_type": "code",
   "execution_count": 1,
   "id": "5e299db3-a633-45c0-86b7-10bf273680f2",
   "metadata": {},
   "outputs": [],
   "source": [
    "import pandas as pd"
   ]
  },
  {
   "cell_type": "code",
   "execution_count": 2,
   "id": "e8f6ade4-032a-4a11-b043-9068116387af",
   "metadata": {},
   "outputs": [
    {
     "name": "stdout",
     "output_type": "stream",
     "text": [
      "All tests passed!\n"
     ]
    }
   ],
   "source": [
    "def read_sheets(key, sheet=None):\n",
    "    # Simulate different DataFrame structures based on the 'sheet' argument\n",
    "    if sheet == 'MultiIndex':\n",
    "        return pd.DataFrame([[1, 2], [3, 4]], columns=pd.MultiIndex.from_tuples([('A', 'B'), ('A', 'C')]))\n",
    "    elif sheet == 'Duplicates':\n",
    "        return pd.DataFrame([[1, 2, 3]], columns=['col', 'col', 'col2'])\n",
    "    elif sheet == 'Unnamed':\n",
    "        return pd.DataFrame([[1, 2]], columns=['Unnamed: 0', 'col2'])\n",
    "    elif sheet == 'DuplicateRows':\n",
    "        return pd.DataFrame([[1, 2], [1, 2]], columns=['col1', 'col2'])\n",
    "    return pd.DataFrame()\n",
    "\n",
    "def get_clean_sheet(key, sheet=None):\n",
    "    df = read_sheets(key, sheet=sheet)\n",
    "    df.columns = [c.strip() for c in df.columns.tolist()]\n",
    "    df = df.loc[:, ~df.columns.duplicated(keep='first')]   \n",
    "    df = df.drop([col for col in df.columns if col.startswith('Unnamed')], axis=1)\n",
    "    df = df.loc[~df.index.duplicated(), :]\n",
    "    return df\n",
    "\n",
    "# Test handling of duplicated columns\n",
    "cleaned_df = get_clean_sheet('dummy_key', 'Duplicates')\n",
    "assert 'col' in cleaned_df.columns and 'col2' in cleaned_df.columns, \"Error: Duplicated columns were not removed correctly\"\n",
    "assert len(cleaned_df.columns) == 2, \"Error: Incorrect number of columns after removing duplicates\"\n",
    "\n",
    "# Test dropping 'Unnamed' columns\n",
    "cleaned_df = get_clean_sheet('dummy_key', 'Unnamed')\n",
    "assert 'col2' in cleaned_df.columns and 'Unnamed: 0' not in cleaned_df.columns, \"Error: 'Unnamed' columns were not dropped\"\n",
    "\n",
    "print(\"All tests passed!\")"
   ]
  },
  {
   "cell_type": "code",
   "execution_count": 3,
   "id": "d7556fed-103e-4375-b98a-00eb3921fceb",
   "metadata": {},
   "outputs": [
    {
     "name": "stdout",
     "output_type": "stream",
     "text": [
      "All tests passed!\n"
     ]
    }
   ],
   "source": [
    "def clean_multiindex_df(df):\n",
    "    # If the columns are a MultiIndex, join them with an underscore, otherwise just strip them\n",
    "    if isinstance(df.columns, pd.MultiIndex):\n",
    "        df.columns = ['_'.join(map(str, col)).strip() for col in df.columns.values]\n",
    "    else:\n",
    "        df.columns = [col.strip() for col in df.columns.tolist()]\n",
    "\n",
    "    # Remove duplicated columns\n",
    "    df = df.loc[:, ~df.columns.duplicated(keep='first')]\n",
    "\n",
    "    # Drop columns that start with 'Unnamed'\n",
    "    df = df.drop([col for col in df.columns if col.startswith('Unnamed')], axis=1)\n",
    "\n",
    "    # Remove duplicated rows\n",
    "    df = df.loc[~df.index.duplicated(), :]\n",
    "\n",
    "    return df\n",
    "\n",
    "# Test multiindex handling\n",
    "df = pd.DataFrame([[1, 2], [3, 4]], columns=pd.MultiIndex.from_tuples([('A', 'B'), ('A', 'C')]))\n",
    "cleaned_df = clean_multiindex_df(df)\n",
    "assert list(cleaned_df.columns) == ['A_B', 'A_C'], \"Error: MultiIndex columns were not handled correctly\"\n",
    "\n",
    "# Test remove duplicated columns\n",
    "df = pd.DataFrame([[1, 2, 3]], columns=['col', 'col', 'col2'])\n",
    "cleaned_df = clean_multiindex_df(df)\n",
    "assert 'col' in cleaned_df.columns and 'col2' in cleaned_df.columns, \"Error: Duplicated columns were not removed correctly\"\n",
    "assert len(cleaned_df.columns) == 2, \"Error: Incorrect number of columns after removing duplicates\"\n",
    "\n",
    "# Test drop unnamed columns\n",
    "df = pd.DataFrame([[1, 2]], columns=['Unnamed: 0', 'col2'])\n",
    "cleaned_df = clean_multiindex_df(df)\n",
    "assert 'col2' in cleaned_df.columns and 'Unnamed: 0' not in cleaned_df.columns, \"Error: 'Unnamed' columns were not dropped\"\n",
    "\n",
    "print(\"All tests passed!\")\n"
   ]
  }
 ],
 "metadata": {
  "kernelspec": {
   "display_name": "Python 3 (ipykernel)",
   "language": "python",
   "name": "python3"
  },
  "language_info": {
   "codemirror_mode": {
    "name": "ipython",
    "version": 3
   },
   "file_extension": ".py",
   "mimetype": "text/x-python",
   "name": "python",
   "nbconvert_exporter": "python",
   "pygments_lexer": "ipython3",
   "version": "3.9.15"
  }
 },
 "nbformat": 4,
 "nbformat_minor": 5
}
